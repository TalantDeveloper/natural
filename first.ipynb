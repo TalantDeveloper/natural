{
 "cells": [
  {
   "cell_type": "code",
   "execution_count": 1,
   "id": "02e5b61f-d1b8-4fea-8134-f18e71b8f142",
   "metadata": {},
   "outputs": [
    {
     "name": "stdout",
     "output_type": "stream",
     "text": [
      "Requirement already satisfied: spacy in c:\\users\\user\\desktop\\natural\\venv\\lib\\site-packages (3.7.2)\n",
      "Requirement already satisfied: spacy-legacy<3.1.0,>=3.0.11 in c:\\users\\user\\desktop\\natural\\venv\\lib\\site-packages (from spacy) (3.0.12)\n",
      "Requirement already satisfied: spacy-loggers<2.0.0,>=1.0.0 in c:\\users\\user\\desktop\\natural\\venv\\lib\\site-packages (from spacy) (1.0.5)\n",
      "Requirement already satisfied: murmurhash<1.1.0,>=0.28.0 in c:\\users\\user\\desktop\\natural\\venv\\lib\\site-packages (from spacy) (1.0.10)\n",
      "Requirement already satisfied: cymem<2.1.0,>=2.0.2 in c:\\users\\user\\desktop\\natural\\venv\\lib\\site-packages (from spacy) (2.0.8)\n",
      "Requirement already satisfied: preshed<3.1.0,>=3.0.2 in c:\\users\\user\\desktop\\natural\\venv\\lib\\site-packages (from spacy) (3.0.9)\n",
      "Requirement already satisfied: thinc<8.3.0,>=8.1.8 in c:\\users\\user\\desktop\\natural\\venv\\lib\\site-packages (from spacy) (8.2.2)\n",
      "Requirement already satisfied: wasabi<1.2.0,>=0.9.1 in c:\\users\\user\\desktop\\natural\\venv\\lib\\site-packages (from spacy) (1.1.2)\n",
      "Requirement already satisfied: srsly<3.0.0,>=2.4.3 in c:\\users\\user\\desktop\\natural\\venv\\lib\\site-packages (from spacy) (2.4.8)\n",
      "Requirement already satisfied: catalogue<2.1.0,>=2.0.6 in c:\\users\\user\\desktop\\natural\\venv\\lib\\site-packages (from spacy) (2.0.10)\n",
      "Requirement already satisfied: weasel<0.4.0,>=0.1.0 in c:\\users\\user\\desktop\\natural\\venv\\lib\\site-packages (from spacy) (0.3.4)\n",
      "Requirement already satisfied: typer<0.10.0,>=0.3.0 in c:\\users\\user\\desktop\\natural\\venv\\lib\\site-packages (from spacy) (0.9.0)\n",
      "Requirement already satisfied: smart-open<7.0.0,>=5.2.1 in c:\\users\\user\\desktop\\natural\\venv\\lib\\site-packages (from spacy) (6.4.0)\n",
      "Requirement already satisfied: tqdm<5.0.0,>=4.38.0 in c:\\users\\user\\desktop\\natural\\venv\\lib\\site-packages (from spacy) (4.66.1)\n",
      "Requirement already satisfied: requests<3.0.0,>=2.13.0 in c:\\users\\user\\desktop\\natural\\venv\\lib\\site-packages (from spacy) (2.31.0)\n",
      "Requirement already satisfied: pydantic!=1.8,!=1.8.1,<3.0.0,>=1.7.4 in c:\\users\\user\\desktop\\natural\\venv\\lib\\site-packages (from spacy) (2.5.3)\n",
      "Requirement already satisfied: jinja2 in c:\\users\\user\\desktop\\natural\\venv\\lib\\site-packages (from spacy) (3.1.2)\n",
      "Requirement already satisfied: setuptools in c:\\users\\user\\desktop\\natural\\venv\\lib\\site-packages (from spacy) (69.0.3)\n",
      "Requirement already satisfied: packaging>=20.0 in c:\\users\\user\\desktop\\natural\\venv\\lib\\site-packages (from spacy) (23.2)\n",
      "Requirement already satisfied: langcodes<4.0.0,>=3.2.0 in c:\\users\\user\\desktop\\natural\\venv\\lib\\site-packages (from spacy) (3.3.0)\n",
      "Requirement already satisfied: numpy>=1.19.0 in c:\\users\\user\\desktop\\natural\\venv\\lib\\site-packages (from spacy) (1.26.3)\n",
      "Requirement already satisfied: annotated-types>=0.4.0 in c:\\users\\user\\desktop\\natural\\venv\\lib\\site-packages (from pydantic!=1.8,!=1.8.1,<3.0.0,>=1.7.4->spacy) (0.6.0)\n",
      "Requirement already satisfied: pydantic-core==2.14.6 in c:\\users\\user\\desktop\\natural\\venv\\lib\\site-packages (from pydantic!=1.8,!=1.8.1,<3.0.0,>=1.7.4->spacy) (2.14.6)\n",
      "Requirement already satisfied: typing-extensions>=4.6.1 in c:\\users\\user\\desktop\\natural\\venv\\lib\\site-packages (from pydantic!=1.8,!=1.8.1,<3.0.0,>=1.7.4->spacy) (4.9.0)\n",
      "Requirement already satisfied: charset-normalizer<4,>=2 in c:\\users\\user\\desktop\\natural\\venv\\lib\\site-packages (from requests<3.0.0,>=2.13.0->spacy) (3.3.2)\n",
      "Requirement already satisfied: idna<4,>=2.5 in c:\\users\\user\\desktop\\natural\\venv\\lib\\site-packages (from requests<3.0.0,>=2.13.0->spacy) (3.6)\n",
      "Requirement already satisfied: urllib3<3,>=1.21.1 in c:\\users\\user\\desktop\\natural\\venv\\lib\\site-packages (from requests<3.0.0,>=2.13.0->spacy) (2.1.0)\n",
      "Requirement already satisfied: certifi>=2017.4.17 in c:\\users\\user\\desktop\\natural\\venv\\lib\\site-packages (from requests<3.0.0,>=2.13.0->spacy) (2023.11.17)\n",
      "Requirement already satisfied: blis<0.8.0,>=0.7.8 in c:\\users\\user\\desktop\\natural\\venv\\lib\\site-packages (from thinc<8.3.0,>=8.1.8->spacy) (0.7.11)\n",
      "Requirement already satisfied: confection<1.0.0,>=0.0.1 in c:\\users\\user\\desktop\\natural\\venv\\lib\\site-packages (from thinc<8.3.0,>=8.1.8->spacy) (0.1.4)\n",
      "Requirement already satisfied: colorama in c:\\users\\user\\desktop\\natural\\venv\\lib\\site-packages (from tqdm<5.0.0,>=4.38.0->spacy) (0.4.6)\n",
      "Requirement already satisfied: click<9.0.0,>=7.1.1 in c:\\users\\user\\desktop\\natural\\venv\\lib\\site-packages (from typer<0.10.0,>=0.3.0->spacy) (8.1.7)\n",
      "Requirement already satisfied: cloudpathlib<0.17.0,>=0.7.0 in c:\\users\\user\\desktop\\natural\\venv\\lib\\site-packages (from weasel<0.4.0,>=0.1.0->spacy) (0.16.0)\n",
      "Requirement already satisfied: MarkupSafe>=2.0 in c:\\users\\user\\desktop\\natural\\venv\\lib\\site-packages (from jinja2->spacy) (2.1.3)\n"
     ]
    }
   ],
   "source": [
    "!pip install spacy"
   ]
  },
  {
   "cell_type": "code",
   "execution_count": 2,
   "id": "6dbb5021-dcbf-4887-8821-f5748ff652f4",
   "metadata": {},
   "outputs": [
    {
     "name": "stdout",
     "output_type": "stream",
     "text": [
      "Collecting en-core-web-sm==3.7.1\n",
      "  Downloading https://github.com/explosion/spacy-models/releases/download/en_core_web_sm-3.7.1/en_core_web_sm-3.7.1-py3-none-any.whl (12.8 MB)\n",
      "     ---------------------------------------- 0.0/12.8 MB ? eta -:--:--\n",
      "     ---------------------------------------- 0.0/12.8 MB 1.9 MB/s eta 0:00:07\n",
      "     --------------------------------------- 0.1/12.8 MB 656.4 kB/s eta 0:00:20\n",
      "     --------------------------------------- 0.1/12.8 MB 819.2 kB/s eta 0:00:16\n",
      "     --------------------------------------- 0.2/12.8 MB 893.0 kB/s eta 0:00:15\n",
      "      -------------------------------------- 0.2/12.8 MB 958.4 kB/s eta 0:00:14\n",
      "      -------------------------------------- 0.3/12.8 MB 983.0 kB/s eta 0:00:13\n",
      "     - -------------------------------------- 0.3/12.8 MB 1.0 MB/s eta 0:00:13\n",
      "     - -------------------------------------- 0.4/12.8 MB 1.0 MB/s eta 0:00:12\n",
      "     - -------------------------------------- 0.4/12.8 MB 1.0 MB/s eta 0:00:12\n",
      "     - -------------------------------------- 0.4/12.8 MB 1.0 MB/s eta 0:00:12\n",
      "     - -------------------------------------- 0.4/12.8 MB 1.0 MB/s eta 0:00:12\n",
      "     - ------------------------------------- 0.5/12.8 MB 805.0 kB/s eta 0:00:16\n",
      "     -- ------------------------------------- 0.6/12.8 MB 1.0 MB/s eta 0:00:12\n",
      "     -- ------------------------------------- 0.7/12.8 MB 1.1 MB/s eta 0:00:12\n",
      "     -- ------------------------------------- 0.8/12.8 MB 1.1 MB/s eta 0:00:12\n",
      "     -- ------------------------------------- 0.8/12.8 MB 1.1 MB/s eta 0:00:12\n",
      "     -- ------------------------------------- 0.9/12.8 MB 1.1 MB/s eta 0:00:12\n",
      "     -- ------------------------------------- 0.9/12.8 MB 1.1 MB/s eta 0:00:12\n",
      "     -- ------------------------------------- 0.9/12.8 MB 1.1 MB/s eta 0:00:12\n",
      "     -- ------------------------------------- 0.9/12.8 MB 1.1 MB/s eta 0:00:12\n",
      "     -- ------------------------------------- 0.9/12.8 MB 1.1 MB/s eta 0:00:12\n",
      "     -- ------------------------------------ 0.9/12.8 MB 903.8 kB/s eta 0:00:14\n",
      "     --- ------------------------------------ 1.1/12.8 MB 1.0 MB/s eta 0:00:12\n",
      "     --- ------------------------------------ 1.2/12.8 MB 1.0 MB/s eta 0:00:12\n",
      "     ---- ----------------------------------- 1.3/12.8 MB 1.1 MB/s eta 0:00:11\n",
      "     ---- ----------------------------------- 1.4/12.8 MB 1.1 MB/s eta 0:00:11\n",
      "     ---- ----------------------------------- 1.4/12.8 MB 1.1 MB/s eta 0:00:11\n",
      "     ---- ----------------------------------- 1.5/12.8 MB 1.1 MB/s eta 0:00:11\n",
      "     ---- ----------------------------------- 1.5/12.8 MB 1.1 MB/s eta 0:00:11\n",
      "     ---- ----------------------------------- 1.6/12.8 MB 1.1 MB/s eta 0:00:10\n",
      "     ----- ---------------------------------- 1.6/12.8 MB 1.1 MB/s eta 0:00:10\n",
      "     ----- ---------------------------------- 1.7/12.8 MB 1.1 MB/s eta 0:00:10\n",
      "     ----- ---------------------------------- 1.8/12.8 MB 1.1 MB/s eta 0:00:10\n",
      "     ----- ---------------------------------- 1.8/12.8 MB 1.1 MB/s eta 0:00:10\n",
      "     ----- ---------------------------------- 1.9/12.8 MB 1.1 MB/s eta 0:00:10\n",
      "     ------ --------------------------------- 1.9/12.8 MB 1.1 MB/s eta 0:00:10\n",
      "     ------ --------------------------------- 2.0/12.8 MB 1.1 MB/s eta 0:00:10\n",
      "     ------ --------------------------------- 2.0/12.8 MB 1.1 MB/s eta 0:00:10\n",
      "     ------ --------------------------------- 2.1/12.8 MB 1.1 MB/s eta 0:00:10\n",
      "     ------ --------------------------------- 2.2/12.8 MB 1.1 MB/s eta 0:00:10\n",
      "     ------ --------------------------------- 2.2/12.8 MB 1.1 MB/s eta 0:00:10\n",
      "     ------- -------------------------------- 2.2/12.8 MB 1.1 MB/s eta 0:00:10\n",
      "     ------- -------------------------------- 2.3/12.8 MB 1.1 MB/s eta 0:00:10\n",
      "     ------- -------------------------------- 2.3/12.8 MB 1.1 MB/s eta 0:00:10\n",
      "     ------- -------------------------------- 2.4/12.8 MB 1.1 MB/s eta 0:00:10\n",
      "     ------- -------------------------------- 2.5/12.8 MB 1.1 MB/s eta 0:00:10\n",
      "     ------- -------------------------------- 2.5/12.8 MB 1.1 MB/s eta 0:00:10\n",
      "     ------- -------------------------------- 2.6/12.8 MB 1.1 MB/s eta 0:00:09\n",
      "     -------- ------------------------------- 2.6/12.8 MB 1.1 MB/s eta 0:00:09\n",
      "     -------- ------------------------------- 2.7/12.8 MB 1.1 MB/s eta 0:00:09\n",
      "     -------- ------------------------------- 2.7/12.8 MB 1.1 MB/s eta 0:00:09\n",
      "     -------- ------------------------------- 2.8/12.8 MB 1.1 MB/s eta 0:00:09\n",
      "     -------- ------------------------------- 2.8/12.8 MB 1.1 MB/s eta 0:00:09\n",
      "     -------- ------------------------------- 2.8/12.8 MB 1.1 MB/s eta 0:00:09\n",
      "     --------- ------------------------------ 2.9/12.8 MB 1.1 MB/s eta 0:00:09\n",
      "     --------- ------------------------------ 3.0/12.8 MB 1.1 MB/s eta 0:00:09\n",
      "     --------- ------------------------------ 3.0/12.8 MB 1.1 MB/s eta 0:00:09\n",
      "     --------- ------------------------------ 3.0/12.8 MB 1.1 MB/s eta 0:00:09\n",
      "     --------- ------------------------------ 3.0/12.8 MB 1.1 MB/s eta 0:00:09\n",
      "     --------- ------------------------------ 3.0/12.8 MB 1.1 MB/s eta 0:00:09\n",
      "     --------- ------------------------------ 3.2/12.8 MB 1.1 MB/s eta 0:00:09\n",
      "     --------- ------------------------------ 3.2/12.8 MB 1.1 MB/s eta 0:00:09\n",
      "     ---------- ----------------------------- 3.3/12.8 MB 1.1 MB/s eta 0:00:09\n",
      "     ---------- ----------------------------- 3.4/12.8 MB 1.2 MB/s eta 0:00:09\n",
      "     ---------- ----------------------------- 3.5/12.8 MB 1.2 MB/s eta 0:00:09\n",
      "     ----------- ---------------------------- 3.5/12.8 MB 1.2 MB/s eta 0:00:09\n",
      "     ----------- ---------------------------- 3.6/12.8 MB 1.2 MB/s eta 0:00:09\n",
      "     ----------- ---------------------------- 3.6/12.8 MB 1.1 MB/s eta 0:00:08\n",
      "     ----------- ---------------------------- 3.7/12.8 MB 1.2 MB/s eta 0:00:08\n",
      "     ----------- ---------------------------- 3.7/12.8 MB 1.2 MB/s eta 0:00:08\n",
      "     ----------- ---------------------------- 3.8/12.8 MB 1.2 MB/s eta 0:00:08\n",
      "     ------------ --------------------------- 3.9/12.8 MB 1.2 MB/s eta 0:00:08\n",
      "     ------------ --------------------------- 3.9/12.8 MB 1.1 MB/s eta 0:00:08\n",
      "     ------------ --------------------------- 3.9/12.8 MB 1.2 MB/s eta 0:00:08\n",
      "     ------------ --------------------------- 4.0/12.8 MB 1.2 MB/s eta 0:00:08\n",
      "     ------------ --------------------------- 4.1/12.8 MB 1.2 MB/s eta 0:00:08\n",
      "     ------------ --------------------------- 4.1/12.8 MB 1.2 MB/s eta 0:00:08\n",
      "     ------------ --------------------------- 4.2/12.8 MB 1.2 MB/s eta 0:00:08\n",
      "     ------------- -------------------------- 4.2/12.8 MB 1.2 MB/s eta 0:00:08\n",
      "     ------------- -------------------------- 4.3/12.8 MB 1.2 MB/s eta 0:00:08\n",
      "     ------------- -------------------------- 4.3/12.8 MB 1.2 MB/s eta 0:00:08\n",
      "     ------------- -------------------------- 4.4/12.8 MB 1.2 MB/s eta 0:00:08\n",
      "     ------------- -------------------------- 4.4/12.8 MB 1.2 MB/s eta 0:00:08\n",
      "     ------------- -------------------------- 4.5/12.8 MB 1.2 MB/s eta 0:00:08\n",
      "     -------------- ------------------------- 4.5/12.8 MB 1.2 MB/s eta 0:00:08\n",
      "     -------------- ------------------------- 4.6/12.8 MB 1.2 MB/s eta 0:00:08\n",
      "     -------------- ------------------------- 4.6/12.8 MB 1.2 MB/s eta 0:00:08\n",
      "     -------------- ------------------------- 4.7/12.8 MB 1.2 MB/s eta 0:00:08\n",
      "     -------------- ------------------------- 4.7/12.8 MB 1.2 MB/s eta 0:00:07\n",
      "     -------------- ------------------------- 4.8/12.8 MB 1.2 MB/s eta 0:00:07\n",
      "     --------------- ------------------------ 4.9/12.8 MB 1.2 MB/s eta 0:00:07\n",
      "     --------------- ------------------------ 4.9/12.8 MB 1.2 MB/s eta 0:00:07\n",
      "     --------------- ------------------------ 5.0/12.8 MB 1.2 MB/s eta 0:00:07\n",
      "     --------------- ------------------------ 5.0/12.8 MB 1.2 MB/s eta 0:00:07\n",
      "     --------------- ------------------------ 5.1/12.8 MB 1.2 MB/s eta 0:00:07\n",
      "     --------------- ------------------------ 5.1/12.8 MB 1.2 MB/s eta 0:00:07\n",
      "     ---------------- ----------------------- 5.2/12.8 MB 1.2 MB/s eta 0:00:07\n",
      "     ---------------- ----------------------- 5.2/12.8 MB 1.2 MB/s eta 0:00:07\n",
      "     ---------------- ----------------------- 5.3/12.8 MB 1.2 MB/s eta 0:00:07\n",
      "     ---------------- ----------------------- 5.3/12.8 MB 1.2 MB/s eta 0:00:07\n",
      "     ---------------- ----------------------- 5.4/12.8 MB 1.2 MB/s eta 0:00:07\n",
      "     ----------------- ---------------------- 5.5/12.8 MB 1.2 MB/s eta 0:00:07\n",
      "     ----------------- ---------------------- 5.5/12.8 MB 1.2 MB/s eta 0:00:07\n",
      "     ----------------- ---------------------- 5.6/12.8 MB 1.2 MB/s eta 0:00:07\n",
      "     ----------------- ---------------------- 5.6/12.8 MB 1.2 MB/s eta 0:00:07\n",
      "     ----------------- ---------------------- 5.7/12.8 MB 1.2 MB/s eta 0:00:07\n",
      "     ----------------- ---------------------- 5.7/12.8 MB 1.2 MB/s eta 0:00:07\n",
      "     ------------------ --------------------- 5.8/12.8 MB 1.2 MB/s eta 0:00:07\n",
      "     ------------------ --------------------- 5.9/12.8 MB 1.2 MB/s eta 0:00:06\n",
      "     ------------------ --------------------- 5.9/12.8 MB 1.2 MB/s eta 0:00:06\n",
      "     ------------------ --------------------- 6.0/12.8 MB 1.2 MB/s eta 0:00:06\n",
      "     ------------------ --------------------- 6.0/12.8 MB 1.2 MB/s eta 0:00:06\n",
      "     ------------------ --------------------- 6.1/12.8 MB 1.2 MB/s eta 0:00:06\n",
      "     ------------------- -------------------- 6.1/12.8 MB 1.2 MB/s eta 0:00:06\n",
      "     ------------------- -------------------- 6.2/12.8 MB 1.2 MB/s eta 0:00:06\n",
      "     ------------------- -------------------- 6.2/12.8 MB 1.2 MB/s eta 0:00:06\n",
      "     ------------------- -------------------- 6.3/12.8 MB 1.2 MB/s eta 0:00:06\n",
      "     ------------------- -------------------- 6.3/12.8 MB 1.2 MB/s eta 0:00:06\n",
      "     ------------------- -------------------- 6.4/12.8 MB 1.2 MB/s eta 0:00:06\n",
      "     -------------------- ------------------- 6.4/12.8 MB 1.2 MB/s eta 0:00:06\n",
      "     -------------------- ------------------- 6.5/12.8 MB 1.2 MB/s eta 0:00:06\n",
      "     -------------------- ------------------- 6.5/12.8 MB 1.2 MB/s eta 0:00:06\n",
      "     -------------------- ------------------- 6.6/12.8 MB 1.2 MB/s eta 0:00:06\n",
      "     -------------------- ------------------- 6.6/12.8 MB 1.2 MB/s eta 0:00:06\n",
      "     -------------------- ------------------- 6.7/12.8 MB 1.2 MB/s eta 0:00:06\n",
      "     --------------------- ------------------ 6.7/12.8 MB 1.2 MB/s eta 0:00:06\n",
      "     --------------------- ------------------ 6.8/12.8 MB 1.2 MB/s eta 0:00:06\n",
      "     --------------------- ------------------ 6.8/12.8 MB 1.2 MB/s eta 0:00:06\n",
      "     --------------------- ------------------ 6.9/12.8 MB 1.2 MB/s eta 0:00:06\n",
      "     --------------------- ------------------ 6.9/12.8 MB 1.2 MB/s eta 0:00:06\n",
      "     --------------------- ------------------ 7.0/12.8 MB 1.2 MB/s eta 0:00:06\n",
      "     ---------------------- ----------------- 7.0/12.8 MB 1.2 MB/s eta 0:00:05\n",
      "     ---------------------- ----------------- 7.1/12.8 MB 1.2 MB/s eta 0:00:05\n",
      "     ---------------------- ----------------- 7.1/12.8 MB 1.2 MB/s eta 0:00:05\n",
      "     ---------------------- ----------------- 7.2/12.8 MB 1.2 MB/s eta 0:00:05\n",
      "     ---------------------- ----------------- 7.3/12.8 MB 1.2 MB/s eta 0:00:05\n",
      "     ---------------------- ----------------- 7.3/12.8 MB 1.2 MB/s eta 0:00:05\n",
      "     ----------------------- ---------------- 7.4/12.8 MB 1.2 MB/s eta 0:00:05\n",
      "     ----------------------- ---------------- 7.4/12.8 MB 1.2 MB/s eta 0:00:05\n",
      "     ----------------------- ---------------- 7.5/12.8 MB 1.2 MB/s eta 0:00:05\n",
      "     ----------------------- ---------------- 7.5/12.8 MB 1.2 MB/s eta 0:00:05\n",
      "     ----------------------- ---------------- 7.6/12.8 MB 1.2 MB/s eta 0:00:05\n",
      "     ----------------------- ---------------- 7.6/12.8 MB 1.2 MB/s eta 0:00:05\n",
      "     ----------------------- ---------------- 7.7/12.8 MB 1.2 MB/s eta 0:00:05\n",
      "     ------------------------ --------------- 7.7/12.8 MB 1.2 MB/s eta 0:00:05\n",
      "     ------------------------ --------------- 7.8/12.8 MB 1.2 MB/s eta 0:00:05\n",
      "     ------------------------ --------------- 7.8/12.8 MB 1.2 MB/s eta 0:00:05\n",
      "     ------------------------ --------------- 7.9/12.8 MB 1.2 MB/s eta 0:00:05\n",
      "     ------------------------ --------------- 7.9/12.8 MB 1.2 MB/s eta 0:00:05\n",
      "     ------------------------ --------------- 8.0/12.8 MB 1.2 MB/s eta 0:00:05\n",
      "     ------------------------- -------------- 8.0/12.8 MB 1.2 MB/s eta 0:00:05\n",
      "     ------------------------- -------------- 8.1/12.8 MB 1.2 MB/s eta 0:00:05\n",
      "     ------------------------- -------------- 8.2/12.8 MB 1.2 MB/s eta 0:00:04\n",
      "     ------------------------- -------------- 8.2/12.8 MB 1.2 MB/s eta 0:00:04\n",
      "     ------------------------- -------------- 8.2/12.8 MB 1.2 MB/s eta 0:00:04\n",
      "     ------------------------- -------------- 8.3/12.8 MB 1.2 MB/s eta 0:00:04\n",
      "     -------------------------- ------------- 8.3/12.8 MB 1.2 MB/s eta 0:00:04\n",
      "     -------------------------- ------------- 8.4/12.8 MB 1.2 MB/s eta 0:00:04\n",
      "     -------------------------- ------------- 8.5/12.8 MB 1.2 MB/s eta 0:00:04\n",
      "     -------------------------- ------------- 8.5/12.8 MB 1.2 MB/s eta 0:00:04\n",
      "     -------------------------- ------------- 8.6/12.8 MB 1.2 MB/s eta 0:00:04\n",
      "     --------------------------- ------------ 8.6/12.8 MB 1.2 MB/s eta 0:00:04\n",
      "     --------------------------- ------------ 8.7/12.8 MB 1.2 MB/s eta 0:00:04\n",
      "     --------------------------- ------------ 8.8/12.8 MB 1.2 MB/s eta 0:00:04\n",
      "     --------------------------- ------------ 8.8/12.8 MB 1.2 MB/s eta 0:00:04\n",
      "     --------------------------- ------------ 8.9/12.8 MB 1.2 MB/s eta 0:00:04\n",
      "     --------------------------- ------------ 8.9/12.8 MB 1.2 MB/s eta 0:00:04\n",
      "     ---------------------------- ----------- 9.0/12.8 MB 1.2 MB/s eta 0:00:04\n",
      "     ---------------------------- ----------- 9.0/12.8 MB 1.2 MB/s eta 0:00:04\n",
      "     ---------------------------- ----------- 9.1/12.8 MB 1.2 MB/s eta 0:00:04\n",
      "     ---------------------------- ----------- 9.1/12.8 MB 1.2 MB/s eta 0:00:04\n",
      "     ---------------------------- ----------- 9.2/12.8 MB 1.2 MB/s eta 0:00:04\n",
      "     ---------------------------- ----------- 9.2/12.8 MB 1.2 MB/s eta 0:00:04\n",
      "     ----------------------------- ---------- 9.3/12.8 MB 1.2 MB/s eta 0:00:04\n",
      "     ----------------------------- ---------- 9.3/12.8 MB 1.2 MB/s eta 0:00:03\n",
      "     ----------------------------- ---------- 9.4/12.8 MB 1.2 MB/s eta 0:00:03\n",
      "     ----------------------------- ---------- 9.5/12.8 MB 1.2 MB/s eta 0:00:03\n",
      "     ----------------------------- ---------- 9.5/12.8 MB 1.2 MB/s eta 0:00:03\n",
      "     ----------------------------- ---------- 9.6/12.8 MB 1.2 MB/s eta 0:00:03\n",
      "     ------------------------------ --------- 9.6/12.8 MB 1.2 MB/s eta 0:00:03\n",
      "     ------------------------------ --------- 9.7/12.8 MB 1.2 MB/s eta 0:00:03\n",
      "     ------------------------------ --------- 9.8/12.8 MB 1.2 MB/s eta 0:00:03\n",
      "     ------------------------------ --------- 9.8/12.8 MB 1.2 MB/s eta 0:00:03\n",
      "     ------------------------------ --------- 9.9/12.8 MB 1.2 MB/s eta 0:00:03\n",
      "     ------------------------------ --------- 9.9/12.8 MB 1.2 MB/s eta 0:00:03\n",
      "     ------------------------------- -------- 10.0/12.8 MB 1.2 MB/s eta 0:00:03\n",
      "     ------------------------------- -------- 10.0/12.8 MB 1.2 MB/s eta 0:00:03\n",
      "     ------------------------------- -------- 10.1/12.8 MB 1.2 MB/s eta 0:00:03\n",
      "     ------------------------------- -------- 10.2/12.8 MB 1.2 MB/s eta 0:00:03\n",
      "     ------------------------------- -------- 10.2/12.8 MB 1.2 MB/s eta 0:00:03\n",
      "     -------------------------------- ------- 10.3/12.8 MB 1.2 MB/s eta 0:00:03\n",
      "     -------------------------------- ------- 10.3/12.8 MB 1.2 MB/s eta 0:00:03\n",
      "     -------------------------------- ------- 10.4/12.8 MB 1.2 MB/s eta 0:00:03\n",
      "     -------------------------------- ------- 10.4/12.8 MB 1.2 MB/s eta 0:00:03\n",
      "     -------------------------------- ------- 10.5/12.8 MB 1.2 MB/s eta 0:00:02\n",
      "     -------------------------------- ------- 10.6/12.8 MB 1.2 MB/s eta 0:00:02\n",
      "     --------------------------------- ------ 10.6/12.8 MB 1.2 MB/s eta 0:00:02\n",
      "     --------------------------------- ------ 10.7/12.8 MB 1.2 MB/s eta 0:00:02\n",
      "     --------------------------------- ------ 10.7/12.8 MB 1.2 MB/s eta 0:00:02\n",
      "     --------------------------------- ------ 10.8/12.8 MB 1.2 MB/s eta 0:00:02\n",
      "     --------------------------------- ------ 10.8/12.8 MB 1.2 MB/s eta 0:00:02\n",
      "     ---------------------------------- ----- 10.9/12.8 MB 1.2 MB/s eta 0:00:02\n",
      "     ---------------------------------- ----- 11.0/12.8 MB 1.2 MB/s eta 0:00:02\n",
      "     ---------------------------------- ----- 11.0/12.8 MB 1.2 MB/s eta 0:00:02\n",
      "     ---------------------------------- ----- 11.0/12.8 MB 1.2 MB/s eta 0:00:02\n",
      "     ---------------------------------- ----- 11.1/12.8 MB 1.2 MB/s eta 0:00:02\n",
      "     ---------------------------------- ----- 11.2/12.8 MB 1.2 MB/s eta 0:00:02\n",
      "     ----------------------------------- ---- 11.2/12.8 MB 1.2 MB/s eta 0:00:02\n",
      "     ----------------------------------- ---- 11.3/12.8 MB 1.2 MB/s eta 0:00:02\n",
      "     ----------------------------------- ---- 11.3/12.8 MB 1.2 MB/s eta 0:00:02\n",
      "     ----------------------------------- ---- 11.4/12.8 MB 1.2 MB/s eta 0:00:02\n",
      "     ----------------------------------- ---- 11.4/12.8 MB 1.2 MB/s eta 0:00:02\n",
      "     ----------------------------------- ---- 11.5/12.8 MB 1.2 MB/s eta 0:00:02\n",
      "     ------------------------------------ --- 11.6/12.8 MB 1.2 MB/s eta 0:00:02\n",
      "     ------------------------------------ --- 11.6/12.8 MB 1.2 MB/s eta 0:00:02\n",
      "     ------------------------------------ --- 11.7/12.8 MB 1.2 MB/s eta 0:00:01\n",
      "     ------------------------------------ --- 11.7/12.8 MB 1.2 MB/s eta 0:00:01\n",
      "     ------------------------------------ --- 11.8/12.8 MB 1.2 MB/s eta 0:00:01\n",
      "     ------------------------------------ --- 11.8/12.8 MB 1.2 MB/s eta 0:00:01\n",
      "     ------------------------------------- -- 11.9/12.8 MB 1.2 MB/s eta 0:00:01\n",
      "     ------------------------------------- -- 11.9/12.8 MB 1.2 MB/s eta 0:00:01\n",
      "     ------------------------------------- -- 11.9/12.8 MB 1.2 MB/s eta 0:00:01\n",
      "     ------------------------------------- -- 11.9/12.8 MB 1.2 MB/s eta 0:00:01\n",
      "     ------------------------------------- -- 11.9/12.8 MB 1.2 MB/s eta 0:00:01\n",
      "     ------------------------------------- -- 12.1/12.8 MB 1.2 MB/s eta 0:00:01\n",
      "     -------------------------------------- - 12.2/12.8 MB 1.2 MB/s eta 0:00:01\n",
      "     -------------------------------------- - 12.2/12.8 MB 1.2 MB/s eta 0:00:01\n",
      "     -------------------------------------- - 12.3/12.8 MB 1.2 MB/s eta 0:00:01\n",
      "     -------------------------------------- - 12.3/12.8 MB 1.2 MB/s eta 0:00:01\n",
      "     -------------------------------------- - 12.4/12.8 MB 1.2 MB/s eta 0:00:01\n",
      "     -------------------------------------- - 12.4/12.8 MB 1.2 MB/s eta 0:00:01\n",
      "     -------------------------------------- - 12.5/12.8 MB 1.2 MB/s eta 0:00:01\n",
      "     ---------------------------------------  12.5/12.8 MB 1.2 MB/s eta 0:00:01\n",
      "     ---------------------------------------  12.5/12.8 MB 1.2 MB/s eta 0:00:01\n",
      "     ---------------------------------------  12.5/12.8 MB 1.2 MB/s eta 0:00:01\n",
      "     ---------------------------------------  12.5/12.8 MB 1.2 MB/s eta 0:00:01\n",
      "     ---------------------------------------  12.5/12.8 MB 1.1 MB/s eta 0:00:01\n",
      "     ---------------------------------------  12.6/12.8 MB 1.2 MB/s eta 0:00:01\n",
      "     ---------------------------------------  12.7/12.8 MB 1.2 MB/s eta 0:00:01\n",
      "     ---------------------------------------  12.7/12.8 MB 1.2 MB/s eta 0:00:01\n",
      "     ---------------------------------------  12.8/12.8 MB 1.2 MB/s eta 0:00:01\n",
      "     ---------------------------------------- 12.8/12.8 MB 1.1 MB/s eta 0:00:00\n",
      "Requirement already satisfied: spacy<3.8.0,>=3.7.2 in c:\\users\\user\\desktop\\natural\\venv\\lib\\site-packages (from en-core-web-sm==3.7.1) (3.7.2)\n",
      "Requirement already satisfied: spacy-legacy<3.1.0,>=3.0.11 in c:\\users\\user\\desktop\\natural\\venv\\lib\\site-packages (from spacy<3.8.0,>=3.7.2->en-core-web-sm==3.7.1) (3.0.12)\n",
      "Requirement already satisfied: spacy-loggers<2.0.0,>=1.0.0 in c:\\users\\user\\desktop\\natural\\venv\\lib\\site-packages (from spacy<3.8.0,>=3.7.2->en-core-web-sm==3.7.1) (1.0.5)\n",
      "Requirement already satisfied: murmurhash<1.1.0,>=0.28.0 in c:\\users\\user\\desktop\\natural\\venv\\lib\\site-packages (from spacy<3.8.0,>=3.7.2->en-core-web-sm==3.7.1) (1.0.10)\n",
      "Requirement already satisfied: cymem<2.1.0,>=2.0.2 in c:\\users\\user\\desktop\\natural\\venv\\lib\\site-packages (from spacy<3.8.0,>=3.7.2->en-core-web-sm==3.7.1) (2.0.8)\n",
      "Requirement already satisfied: preshed<3.1.0,>=3.0.2 in c:\\users\\user\\desktop\\natural\\venv\\lib\\site-packages (from spacy<3.8.0,>=3.7.2->en-core-web-sm==3.7.1) (3.0.9)\n",
      "Requirement already satisfied: thinc<8.3.0,>=8.1.8 in c:\\users\\user\\desktop\\natural\\venv\\lib\\site-packages (from spacy<3.8.0,>=3.7.2->en-core-web-sm==3.7.1) (8.2.2)\n",
      "Requirement already satisfied: wasabi<1.2.0,>=0.9.1 in c:\\users\\user\\desktop\\natural\\venv\\lib\\site-packages (from spacy<3.8.0,>=3.7.2->en-core-web-sm==3.7.1) (1.1.2)\n",
      "Requirement already satisfied: srsly<3.0.0,>=2.4.3 in c:\\users\\user\\desktop\\natural\\venv\\lib\\site-packages (from spacy<3.8.0,>=3.7.2->en-core-web-sm==3.7.1) (2.4.8)\n",
      "Requirement already satisfied: catalogue<2.1.0,>=2.0.6 in c:\\users\\user\\desktop\\natural\\venv\\lib\\site-packages (from spacy<3.8.0,>=3.7.2->en-core-web-sm==3.7.1) (2.0.10)\n",
      "Requirement already satisfied: weasel<0.4.0,>=0.1.0 in c:\\users\\user\\desktop\\natural\\venv\\lib\\site-packages (from spacy<3.8.0,>=3.7.2->en-core-web-sm==3.7.1) (0.3.4)\n",
      "Requirement already satisfied: typer<0.10.0,>=0.3.0 in c:\\users\\user\\desktop\\natural\\venv\\lib\\site-packages (from spacy<3.8.0,>=3.7.2->en-core-web-sm==3.7.1) (0.9.0)\n",
      "Requirement already satisfied: smart-open<7.0.0,>=5.2.1 in c:\\users\\user\\desktop\\natural\\venv\\lib\\site-packages (from spacy<3.8.0,>=3.7.2->en-core-web-sm==3.7.1) (6.4.0)\n",
      "Requirement already satisfied: tqdm<5.0.0,>=4.38.0 in c:\\users\\user\\desktop\\natural\\venv\\lib\\site-packages (from spacy<3.8.0,>=3.7.2->en-core-web-sm==3.7.1) (4.66.1)\n",
      "Requirement already satisfied: requests<3.0.0,>=2.13.0 in c:\\users\\user\\desktop\\natural\\venv\\lib\\site-packages (from spacy<3.8.0,>=3.7.2->en-core-web-sm==3.7.1) (2.31.0)\n",
      "Requirement already satisfied: pydantic!=1.8,!=1.8.1,<3.0.0,>=1.7.4 in c:\\users\\user\\desktop\\natural\\venv\\lib\\site-packages (from spacy<3.8.0,>=3.7.2->en-core-web-sm==3.7.1) (2.5.3)\n",
      "Requirement already satisfied: jinja2 in c:\\users\\user\\desktop\\natural\\venv\\lib\\site-packages (from spacy<3.8.0,>=3.7.2->en-core-web-sm==3.7.1) (3.1.2)\n",
      "Requirement already satisfied: setuptools in c:\\users\\user\\desktop\\natural\\venv\\lib\\site-packages (from spacy<3.8.0,>=3.7.2->en-core-web-sm==3.7.1) (69.0.3)\n",
      "Requirement already satisfied: packaging>=20.0 in c:\\users\\user\\desktop\\natural\\venv\\lib\\site-packages (from spacy<3.8.0,>=3.7.2->en-core-web-sm==3.7.1) (23.2)\n",
      "Requirement already satisfied: langcodes<4.0.0,>=3.2.0 in c:\\users\\user\\desktop\\natural\\venv\\lib\\site-packages (from spacy<3.8.0,>=3.7.2->en-core-web-sm==3.7.1) (3.3.0)\n",
      "Requirement already satisfied: numpy>=1.19.0 in c:\\users\\user\\desktop\\natural\\venv\\lib\\site-packages (from spacy<3.8.0,>=3.7.2->en-core-web-sm==3.7.1) (1.26.3)\n",
      "Requirement already satisfied: annotated-types>=0.4.0 in c:\\users\\user\\desktop\\natural\\venv\\lib\\site-packages (from pydantic!=1.8,!=1.8.1,<3.0.0,>=1.7.4->spacy<3.8.0,>=3.7.2->en-core-web-sm==3.7.1) (0.6.0)\n",
      "Requirement already satisfied: pydantic-core==2.14.6 in c:\\users\\user\\desktop\\natural\\venv\\lib\\site-packages (from pydantic!=1.8,!=1.8.1,<3.0.0,>=1.7.4->spacy<3.8.0,>=3.7.2->en-core-web-sm==3.7.1) (2.14.6)\n",
      "Requirement already satisfied: typing-extensions>=4.6.1 in c:\\users\\user\\desktop\\natural\\venv\\lib\\site-packages (from pydantic!=1.8,!=1.8.1,<3.0.0,>=1.7.4->spacy<3.8.0,>=3.7.2->en-core-web-sm==3.7.1) (4.9.0)\n",
      "Requirement already satisfied: charset-normalizer<4,>=2 in c:\\users\\user\\desktop\\natural\\venv\\lib\\site-packages (from requests<3.0.0,>=2.13.0->spacy<3.8.0,>=3.7.2->en-core-web-sm==3.7.1) (3.3.2)\n",
      "Requirement already satisfied: idna<4,>=2.5 in c:\\users\\user\\desktop\\natural\\venv\\lib\\site-packages (from requests<3.0.0,>=2.13.0->spacy<3.8.0,>=3.7.2->en-core-web-sm==3.7.1) (3.6)\n",
      "Requirement already satisfied: urllib3<3,>=1.21.1 in c:\\users\\user\\desktop\\natural\\venv\\lib\\site-packages (from requests<3.0.0,>=2.13.0->spacy<3.8.0,>=3.7.2->en-core-web-sm==3.7.1) (2.1.0)\n",
      "Requirement already satisfied: certifi>=2017.4.17 in c:\\users\\user\\desktop\\natural\\venv\\lib\\site-packages (from requests<3.0.0,>=2.13.0->spacy<3.8.0,>=3.7.2->en-core-web-sm==3.7.1) (2023.11.17)\n",
      "Requirement already satisfied: blis<0.8.0,>=0.7.8 in c:\\users\\user\\desktop\\natural\\venv\\lib\\site-packages (from thinc<8.3.0,>=8.1.8->spacy<3.8.0,>=3.7.2->en-core-web-sm==3.7.1) (0.7.11)\n",
      "Requirement already satisfied: confection<1.0.0,>=0.0.1 in c:\\users\\user\\desktop\\natural\\venv\\lib\\site-packages (from thinc<8.3.0,>=8.1.8->spacy<3.8.0,>=3.7.2->en-core-web-sm==3.7.1) (0.1.4)\n",
      "Requirement already satisfied: colorama in c:\\users\\user\\desktop\\natural\\venv\\lib\\site-packages (from tqdm<5.0.0,>=4.38.0->spacy<3.8.0,>=3.7.2->en-core-web-sm==3.7.1) (0.4.6)\n",
      "Requirement already satisfied: click<9.0.0,>=7.1.1 in c:\\users\\user\\desktop\\natural\\venv\\lib\\site-packages (from typer<0.10.0,>=0.3.0->spacy<3.8.0,>=3.7.2->en-core-web-sm==3.7.1) (8.1.7)\n",
      "Requirement already satisfied: cloudpathlib<0.17.0,>=0.7.0 in c:\\users\\user\\desktop\\natural\\venv\\lib\\site-packages (from weasel<0.4.0,>=0.1.0->spacy<3.8.0,>=3.7.2->en-core-web-sm==3.7.1) (0.16.0)\n",
      "Requirement already satisfied: MarkupSafe>=2.0 in c:\\users\\user\\desktop\\natural\\venv\\lib\\site-packages (from jinja2->spacy<3.8.0,>=3.7.2->en-core-web-sm==3.7.1) (2.1.3)\n",
      "\u001b[38;5;2m[+] Download and installation successful\u001b[0m\n",
      "You can now load the package via spacy.load('en_core_web_sm')\n"
     ]
    }
   ],
   "source": [
    "!python -m spacy download en_core_web_sm"
   ]
  },
  {
   "cell_type": "code",
   "execution_count": 3,
   "id": "296add9a-a5bd-42b7-8646-3f5042c4c3f3",
   "metadata": {},
   "outputs": [],
   "source": [
    "import spacy"
   ]
  },
  {
   "cell_type": "code",
   "execution_count": 4,
   "id": "193a12ec-fe69-49dc-ad48-18d642c40fcf",
   "metadata": {},
   "outputs": [],
   "source": [
    "nlp = spacy.load(\"en_core_web_sm\")"
   ]
  },
  {
   "cell_type": "code",
   "execution_count": 5,
   "id": "b03733d1-e307-4ae3-905f-493cf187ea96",
   "metadata": {},
   "outputs": [],
   "source": [
    "with open('data/wiki_us.txt', 'r') as f:\n",
    "    text = f.read()"
   ]
  },
  {
   "cell_type": "code",
   "execution_count": 6,
   "id": "bf514d1f-d975-463e-bc9c-fe5b1c85197f",
   "metadata": {},
   "outputs": [
    {
     "name": "stdout",
     "output_type": "stream",
     "text": [
      "The United States of America (U.S.A.), commonly known as the United States (U.S.) or America, is a country primarily located in North America. The third-largest country in the world by land and total area,[c] the U.S. consists of 50 states, a federal district, five major unincorporated territories, nine Minor Outlying Islands[i] and includes 326 Indian reservations. It shares land borders with Canada to its north and with Mexico to its south and has maritime borders with several other countries.[j] With a population of over 334 million,[k] it is the most populous country in the Americas and the third-most populous in the world. The national capital of the United States is Washington, D.C., and its most populous city and principal financial center is New York City.\n",
      "\n",
      "Ancestors of America's indigenous peoples migrated across the Bering land bridge more than 12,000 years ago. Beginning in 1607, British colonization led to the establishment of the Thirteen Colonies in what is now the Eastern United States. They clashed with the British Crown over taxation and political representation, which led to the American Revolution and the ensuing Revolutionary War. The United States declared independence on July 4, 1776, and went on to become the first country founded on Enlightenment principles of unalienable natural rights, consent of the governed, and republicanism.\n",
      "\n",
      "Following a series of treaties, conflicts, and acquisitions, the United States expanded across North America. As more states were admitted, sectional division over slavery led to the secession of the Confederate States of America, which fought the remaining states of the Union during the American Civil War (1861вЂ“65). With the Union's victory and preservation, slavery was abolished nationally, but relations between different races remained problematic. Industrialization during the late 19th and early 20th centuries led to rapid economic development but also socioeconomic disparities that prompted calls for reforms.\n",
      "\n",
      "By 1900, the United States had established itself as a great power, becoming the world's largest economy. After Japan's attack on Pearl Harbor in December 1941, the U.S. entered World War II on the side of the Allies. The aftermath of the war left the U.S. and the Soviet Union as the world's two superpowers and led to the Cold War, during which both countries engaged in a struggle for ideological dominance and international influence, avoided direct military conflict, and competed in the Space Race, which culminated with the United States landing the first humans on the Moon in 1969. Following the Soviet Union's collapse and the end of the Cold War in 1991, it emerged as the world's sole superpower.\n",
      "\n",
      "The United States national government is a federal presidential constitutional republic and liberal democracy with three separate branches of government: legislative, executive, and judicial; this governmental structure is designed to maintain a system of checks and balances among the branches. It has a bicameral national legislature composed of the House of Representatives, a lower house based on population; and the Senate, an upper house based on equal representation for each state. Many policy issues are decentralized at a state or local level, that can vary by jurisdiction. However, they must conform with and are subordinate to the Constitution. Americans generally value liberty, equality under the law, individualism, and limited government.\n"
     ]
    }
   ],
   "source": [
    "print(text)"
   ]
  },
  {
   "cell_type": "code",
   "execution_count": 7,
   "id": "6a105273-3225-4dd9-a4ec-6d0a84bcbd20",
   "metadata": {},
   "outputs": [],
   "source": [
    "doc = nlp(text)"
   ]
  },
  {
   "cell_type": "code",
   "execution_count": 8,
   "id": "751b5ab2-0667-442a-9368-3a08e97154ea",
   "metadata": {},
   "outputs": [
    {
     "name": "stdout",
     "output_type": "stream",
     "text": [
      "The United States of America (U.S.A.), commonly known as the United States (U.S.) or America, is a country primarily located in North America. The third-largest country in the world by land and total area,[c] the U.S. consists of 50 states, a federal district, five major unincorporated territories, nine Minor Outlying Islands[i] and includes 326 Indian reservations. It shares land borders with Canada to its north and with Mexico to its south and has maritime borders with several other countries.[j] With a population of over 334 million,[k] it is the most populous country in the Americas and the third-most populous in the world. The national capital of the United States is Washington, D.C., and its most populous city and principal financial center is New York City.\n",
      "\n",
      "Ancestors of America's indigenous peoples migrated across the Bering land bridge more than 12,000 years ago. Beginning in 1607, British colonization led to the establishment of the Thirteen Colonies in what is now the Eastern United States. They clashed with the British Crown over taxation and political representation, which led to the American Revolution and the ensuing Revolutionary War. The United States declared independence on July 4, 1776, and went on to become the first country founded on Enlightenment principles of unalienable natural rights, consent of the governed, and republicanism.\n",
      "\n",
      "Following a series of treaties, conflicts, and acquisitions, the United States expanded across North America. As more states were admitted, sectional division over slavery led to the secession of the Confederate States of America, which fought the remaining states of the Union during the American Civil War (1861вЂ“65). With the Union's victory and preservation, slavery was abolished nationally, but relations between different races remained problematic. Industrialization during the late 19th and early 20th centuries led to rapid economic development but also socioeconomic disparities that prompted calls for reforms.\n",
      "\n",
      "By 1900, the United States had established itself as a great power, becoming the world's largest economy. After Japan's attack on Pearl Harbor in December 1941, the U.S. entered World War II on the side of the Allies. The aftermath of the war left the U.S. and the Soviet Union as the world's two superpowers and led to the Cold War, during which both countries engaged in a struggle for ideological dominance and international influence, avoided direct military conflict, and competed in the Space Race, which culminated with the United States landing the first humans on the Moon in 1969. Following the Soviet Union's collapse and the end of the Cold War in 1991, it emerged as the world's sole superpower.\n",
      "\n",
      "The United States national government is a federal presidential constitutional republic and liberal democracy with three separate branches of government: legislative, executive, and judicial; this governmental structure is designed to maintain a system of checks and balances among the branches. It has a bicameral national legislature composed of the House of Representatives, a lower house based on population; and the Senate, an upper house based on equal representation for each state. Many policy issues are decentralized at a state or local level, that can vary by jurisdiction. However, they must conform with and are subordinate to the Constitution. Americans generally value liberty, equality under the law, individualism, and limited government.\n"
     ]
    }
   ],
   "source": [
    "print(doc)"
   ]
  },
  {
   "cell_type": "code",
   "execution_count": 9,
   "id": "30871b60-12d3-43f9-8947-bd6955fd59a5",
   "metadata": {},
   "outputs": [
    {
     "name": "stdout",
     "output_type": "stream",
     "text": [
      "3468\n",
      "620\n"
     ]
    }
   ],
   "source": [
    "print(len(text))\n",
    "print(len(doc))"
   ]
  },
  {
   "cell_type": "code",
   "execution_count": 10,
   "id": "4ed3208f-e585-4b51-99f4-07f854be3683",
   "metadata": {},
   "outputs": [
    {
     "name": "stdout",
     "output_type": "stream",
     "text": [
      "T\n",
      "h\n",
      "e\n",
      " \n",
      "U\n",
      "n\n",
      "i\n",
      "t\n",
      "e\n",
      "d\n"
     ]
    }
   ],
   "source": [
    "for token in text[0:10]:\n",
    "    print(token)"
   ]
  },
  {
   "cell_type": "code",
   "execution_count": 11,
   "id": "8377908c-78f5-4d9b-9c47-5809681dff29",
   "metadata": {},
   "outputs": [
    {
     "name": "stdout",
     "output_type": "stream",
     "text": [
      "The\n",
      "United\n",
      "States\n",
      "of\n",
      "America\n",
      "(\n",
      "U.S.A.\n",
      ")\n",
      ",\n",
      "commonly\n"
     ]
    }
   ],
   "source": [
    "for token in doc[:10]:\n",
    "    print(token)"
   ]
  },
  {
   "cell_type": "code",
   "execution_count": 12,
   "id": "ce49d150-0747-4574-9029-2f9330d57ec9",
   "metadata": {},
   "outputs": [
    {
     "name": "stdout",
     "output_type": "stream",
     "text": [
      "The\n",
      "United\n",
      "States\n",
      "of\n",
      "America\n",
      "(U.S.A.),\n",
      "commonly\n",
      "known\n",
      "as\n",
      "the\n"
     ]
    }
   ],
   "source": [
    "for token in text.split()[:10]:\n",
    "    print(token)"
   ]
  },
  {
   "cell_type": "code",
   "execution_count": 13,
   "id": "1c8fbf42-62d0-4133-b708-f28ea260837c",
   "metadata": {},
   "outputs": [
    {
     "name": "stdout",
     "output_type": "stream",
     "text": [
      "The United States of America (U.S.A.), commonly known as the United States (U.S.) or America, is a country primarily located in North America.\n",
      "The third-largest country in the world by land and total area,[c] the U.S. consists of 50 states, a federal district, five major unincorporated territories, nine Minor Outlying Islands[i] and includes 326 Indian reservations.\n",
      "It shares land borders with Canada to its north and with Mexico to its south and has maritime borders with several other countries.[j] With a population of over 334 million,[k]\n",
      "it is the most populous country in the Americas and the third-most populous in the world.\n",
      "The national capital of the United States is Washington, D.C., and its most populous city and principal financial center is New York City.\n",
      "\n",
      "\n",
      "Ancestors of America's indigenous peoples migrated across the Bering land bridge more than 12,000 years ago.\n",
      "Beginning in 1607, British colonization led to the establishment of the Thirteen Colonies in what is now the Eastern United States.\n",
      "They clashed with the British Crown over taxation and political representation, which led to the American Revolution and the ensuing Revolutionary War.\n",
      "The United States declared independence on July 4, 1776, and went on to become the first country founded on Enlightenment principles of unalienable natural rights, consent of the governed, and republicanism.\n",
      "\n",
      "\n",
      "Following a series of treaties, conflicts, and acquisitions, the United States expanded across North America.\n",
      "As more states were admitted, sectional division over slavery led to the secession of the Confederate States of America, which fought the remaining states of the Union during the American Civil War (1861вЂ“65).\n",
      "With the Union's victory and preservation, slavery was abolished nationally, but relations between different races remained problematic.\n",
      "Industrialization during the late 19th and early 20th centuries led to rapid economic development but also socioeconomic disparities that prompted calls for reforms.\n",
      "\n",
      "\n",
      "By 1900, the United States had established itself as a great power, becoming the world's largest economy.\n",
      "After Japan's attack on Pearl Harbor in December 1941, the U.S. entered World War II on the side of the Allies.\n",
      "The aftermath of the war left the U.S. and the Soviet Union as the world's two superpowers and led to the Cold War, during which both countries engaged in a struggle for ideological dominance and international influence, avoided direct military conflict, and competed in the Space Race, which culminated with the United States landing the first humans on the Moon in 1969.\n",
      "Following the Soviet Union's collapse and the end of the Cold War in 1991, it emerged as the world's sole superpower.\n",
      "\n",
      "\n",
      "The United States national government is a federal presidential constitutional republic and liberal democracy with three separate branches of government: legislative, executive, and judicial; this governmental structure is designed to maintain a system of checks and balances among the branches.\n",
      "It has a bicameral national legislature composed of the House of Representatives, a lower house based on population; and the Senate, an upper house based on equal representation for each state.\n",
      "Many policy issues are decentralized at a state or local level, that can vary by jurisdiction.\n",
      "However, they must conform with and are subordinate to the Constitution.\n",
      "Americans generally value liberty, equality under the law, individualism, and limited government.\n"
     ]
    }
   ],
   "source": [
    "for sent in doc.sents:\n",
    "    print(sent)"
   ]
  },
  {
   "cell_type": "code",
   "execution_count": 14,
   "id": "da2fd04d-f0be-4158-a309-dc12adc6f9f9",
   "metadata": {},
   "outputs": [
    {
     "ename": "TypeError",
     "evalue": "'generator' object is not subscriptable",
     "output_type": "error",
     "traceback": [
      "\u001b[1;31m---------------------------------------------------------------------------\u001b[0m",
      "\u001b[1;31mTypeError\u001b[0m                                 Traceback (most recent call last)",
      "Cell \u001b[1;32mIn[14], line 1\u001b[0m\n\u001b[1;32m----> 1\u001b[0m sentenses1 \u001b[38;5;241m=\u001b[39m \u001b[43mdoc\u001b[49m\u001b[38;5;241;43m.\u001b[39;49m\u001b[43msents\u001b[49m\u001b[43m[\u001b[49m\u001b[38;5;241;43m0\u001b[39;49m\u001b[43m]\u001b[49m\n\u001b[0;32m      2\u001b[0m \u001b[38;5;28mprint\u001b[39m(sentenses1)\n",
      "\u001b[1;31mTypeError\u001b[0m: 'generator' object is not subscriptable"
     ]
    }
   ],
   "source": [
    "sentenses1 = doc.sents[0]\n",
    "print(sentenses1)"
   ]
  },
  {
   "cell_type": "code",
   "execution_count": 19,
   "id": "d0e6645c-0e6e-477c-8473-e15c7cb45f87",
   "metadata": {},
   "outputs": [
    {
     "name": "stdout",
     "output_type": "stream",
     "text": [
      "The United States of America (U.S.A.), commonly known as the United States (U.S.) or America, is a country primarily located in North America.\n"
     ]
    }
   ],
   "source": [
    "sentenses1 = list(doc.sents)[0]\n",
    "print(sentenses1)"
   ]
  },
  {
   "cell_type": "code",
   "execution_count": null,
   "id": "f0d09c36-f15f-4a6f-80ee-1d25fbf0daa9",
   "metadata": {},
   "outputs": [],
   "source": []
  },
  {
   "cell_type": "code",
   "execution_count": null,
   "id": "c79ee17a-3303-4769-8341-d6d4eda62f53",
   "metadata": {},
   "outputs": [],
   "source": []
  },
  {
   "cell_type": "code",
   "execution_count": null,
   "id": "9e920f8a-4547-4706-ab27-56814199da33",
   "metadata": {},
   "outputs": [],
   "source": []
  }
 ],
 "metadata": {
  "kernelspec": {
   "display_name": "Python 3 (ipykernel)",
   "language": "python",
   "name": "python3"
  },
  "language_info": {
   "codemirror_mode": {
    "name": "ipython",
    "version": 3
   },
   "file_extension": ".py",
   "mimetype": "text/x-python",
   "name": "python",
   "nbconvert_exporter": "python",
   "pygments_lexer": "ipython3",
   "version": "3.10.9"
  }
 },
 "nbformat": 4,
 "nbformat_minor": 5
}
